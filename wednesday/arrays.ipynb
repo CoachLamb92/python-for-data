{
 "cells": [
  {
   "cell_type": "code",
   "execution_count": 149,
   "id": "c4180610-30ac-4d83-9221-854203cdd4fc",
   "metadata": {},
   "outputs": [],
   "source": [
    "import numpy as np\n",
    "import pandas as pd"
   ]
  },
  {
   "cell_type": "code",
   "execution_count": 181,
   "id": "9eb0aaa4-2a7f-4a25-8be7-8bf2244bd876",
   "metadata": {},
   "outputs": [],
   "source": [
    "df = pd.read_csv('gold_price_data.csv')\n",
    "gold_price = np.array(df[\"close\"])"
   ]
  },
  {
   "cell_type": "code",
   "execution_count": 182,
   "id": "7aec458e-7bb6-4956-99c7-e5e0d92aca94",
   "metadata": {},
   "outputs": [
    {
     "name": "stdout",
     "output_type": "stream",
     "text": [
      "Mean closing price: 131.25655610915683\n",
      "Median closing price: 123.9800033569336\n",
      "Standard Deviation closing price: 51.06827818298171\n",
      "Max closing price: 315.0400085449219\n",
      "Min closing price: 41.02000045776367\n",
      "Range closing price: 274.0200080871582\n",
      "Date of max close: 2025-06-13\n"
     ]
    }
   ],
   "source": [
    "print(\"Mean closing price:\", np.mean(gold_price))\n",
    "print(\"Median closing price:\", np.median(gold_price))\n",
    "print(\"Standard Deviation closing price:\", np.std(gold_price))\n",
    "max_close = np.max(gold_price)\n",
    "print(\"Max closing price:\", max_close)\n",
    "print(\"Min closing price:\", np.min(gold_price))\n",
    "print(\"Range closing price:\", max_close - np.min(gold_price))\n",
    "print(\"Date of max close:\", np.array(df[df[\"close\"] == max_close][\"date\"])[0])\n"
   ]
  },
  {
   "cell_type": "code",
   "execution_count": 205,
   "id": "e5dd9c55-9520-42a7-b5c6-7d7e21d0972b",
   "metadata": {},
   "outputs": [
    {
     "name": "stdout",
     "output_type": "stream",
     "text": [
      "First month: [44.06999969 44.47000122 44.74000168 44.72000122 44.79000092 45.06000137\n",
      " 45.08000183 44.81999969 45.25999832 44.68000031 44.79999924 45.11000061\n",
      " 45.06999969 43.36000061 43.20000076 43.31000137 43.50999832 43.50999832\n",
      " 43.91999817 43.58000183 43.77999878 44.13000107 44.04999924 43.88999939\n",
      " 44.04999924 44.27000046 44.29000092 43.34999847 43.49000168 43.72999954]\n",
      "Last month: [307.35998535 306.95999146 306.1499939  304.52999878 302.76998901\n",
      " 303.23001099 304.82000732 308.51998901 307.73001099 305.79000854\n",
      " 305.73001099 305.11999512 308.32000732 311.60998535 313.61999512\n",
      " 311.42001343 309.05999756 306.20001221 304.04998779 304.98999023\n",
      " 300.95999146 302.85998535 307.45001221 310.36999512 310.22000122\n",
      " 309.83999634 310.70001221 311.         307.63000488 306.70999146]\n",
      "[ 44.20300013  42.03800011  43.14733327  42.71400032  42.26900024\n",
      "  42.60666682  44.02066663  46.49866676  48.33733317  52.5733331\n",
      "  54.91833318  57.74733353  65.32533315  59.83199984  62.07333349\n",
      "  58.1450002   60.47433345  61.83700027  64.35366694  64.85199979\n",
      "  66.72199987  64.58866679  65.6473334   68.42299957  75.40299962\n",
      "  78.51300049  86.75600052  93.25633341  89.04766668  87.08766632\n",
      "  90.9759992   80.69900004  80.99566676  73.38633296  81.90633341\n",
      "  90.25600001  88.83499959  89.84766668  91.54433339  92.53233414\n",
      "  97.01366577 104.76500041 110.55799967 107.5840004  108.42366664\n",
      " 113.46066538 118.88000056 116.51133347 120.84733302 129.59933319\n",
      " 133.88000031 133.27666728 134.82533366 140.67366689 147.19100037\n",
      " 149.45099996 167.21633301 166.45466715 166.01200053 158.68066661\n",
      " 165.71033274 162.02800039 157.05933431 153.48133291 154.20433197\n",
      " 164.79066518 168.00966593 164.64433339 161.12766622 154.04533183\n",
      " 143.60199992 134.06566671 122.98866653 130.47166672 126.38533351\n",
      " 122.56066767 118.07699992 124.61666768 126.61666667 123.43866628\n",
      " 124.53700078 124.57066752 118.21966654 114.87933375 114.51800054\n",
      " 119.50666606 113.35999985 114.51499939 113.58366597 107.16900024\n",
      " 107.460333   109.81433309 102.45       104.02200012 116.37799962\n",
      " 117.79333394 119.50900014 125.24466654 127.17333323 123.7259997\n",
      " 118.36533356 110.06966629 116.05699946 117.38233337 119.05466665\n",
      " 119.11466649 119.12833354 123.86966731 121.19166641 120.37199961\n",
      " 125.59166692 125.50066579 125.7246666  122.58500036 117.27599996\n",
      " 113.15333354 114.04533386 115.55266647 120.19100011 123.58433431\n",
      " 122.11733398 121.20766729 130.01200078 138.63133494 141.16200104\n",
      " 139.26500092 140.02099915 147.50933329 148.97766673 159.22966715\n",
      " 162.1043335  176.3506663  181.07600047 177.60733287 173.1143336\n",
      " 174.35333405 164.375      163.2143336  173.64533335 167.60866445\n",
      " 166.98033346 164.58133291 168.57633413 167.3789978  171.66733348\n",
      " 180.62399953 174.84833323 169.17333425 162.47899933 157.18966675\n",
      " 155.39399923 165.16700033 175.09399974 173.96566772 185.12033539\n",
      " 181.59600067 179.82200114 177.42999929 176.55133311 184.12633311\n",
      " 188.1030014  189.80366821 208.88133392 216.11433411 217.11033274\n",
      " 225.57833455 239.39933268 246.89533234 243.28766581 259.93931211\n",
      " 274.28723986 299.07241295 306.12206716 307.18482708]\n",
      "The first month's mean closing price is 44.20300013224284, whereas the last month's mean closing price is 307.1848270810884\n"
     ]
    }
   ],
   "source": [
    "print(\"First month:\", gold_price[:30])\n",
    "print(\"Last month:\", gold_price[-30:])\n",
    "monthly_chunks = np.array_split(gold_price, len(gold_price) // 30 + (len(gold_price) % 30 != 0))\n",
    "monthly_means_30 = np.mean(monthly_chunks[:-5], axis=1)\n",
    "# print(monthly_means_30)\n",
    "monthly_means_29 = np.mean(monthly_chunks[-5:], axis=1)\n",
    "# print(monthly_means_29)\n",
    "monthly_means = np.append(monthly_means_30, monthly_means_29)\n",
    "print(monthly_means)\n",
    "print(f\"The first month's mean closing price is {monthly_means[0]}, whereas the last month's mean closing price is {monthly_means[-1]}\")"
   ]
  },
  {
   "cell_type": "code",
   "execution_count": 221,
   "id": "73ca5ed3-67ce-426f-b39a-743a3e569818",
   "metadata": {},
   "outputs": [
    {
     "name": "stdout",
     "output_type": "stream",
     "text": [
      "Daily close differences: [ 0.40000153  0.27000046 -0.02000046 ...  0.29998779 -3.36999512\n",
      " -0.92001343]\n",
      "Largest increase: 11.220001220703125\n",
      "Largest decrease: -12.919998168945312\n",
      "Largest increase dates: 2025-04-17 to 2025-04-21\n",
      "Largest decrease dates: 2013-04-12 to 2013-04-15\n"
     ]
    }
   ],
   "source": [
    "differences = np.diff(gold_price, axis=0)\n",
    "print(\"Daily close differences:\", differences)\n",
    "# >0 means increase from one day to the next\n",
    "# <0 means decrease from one day to the next\n",
    "max_increase = np.max(differences)\n",
    "max_decrease = np.min(differences)\n",
    "print(\"Largest increase:\", max_increase)\n",
    "print(\"Largest decrease:\", max_decrease)\n",
    "max_inc_index = np.argmax(differences)\n",
    "max_dec_index = np.argmin(differences)\n",
    "print(f\"Largest increase dates: {np.array(df[\"date\"])[max_inc_index]} to {np.array(df[\"date\"])[max_inc_index+1]}\")\n",
    "print(f\"Largest decrease dates: {np.array(df[\"date\"])[max_dec_index]} to {np.array(df[\"date\"])[max_dec_index+1]}\")"
   ]
  }
 ],
 "metadata": {
  "kernelspec": {
   "display_name": "Python 3 (ipykernel)",
   "language": "python",
   "name": "python3"
  },
  "language_info": {
   "codemirror_mode": {
    "name": "ipython",
    "version": 3
   },
   "file_extension": ".py",
   "mimetype": "text/x-python",
   "name": "python",
   "nbconvert_exporter": "python",
   "pygments_lexer": "ipython3",
   "version": "3.13.0"
  }
 },
 "nbformat": 4,
 "nbformat_minor": 5
}
